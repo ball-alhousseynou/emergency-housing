{
 "cells": [
  {
   "cell_type": "markdown",
   "metadata": {
    "id": "1gNTe8zpVsDZ"
   },
   "source": [
    "<h2 style=\"text-align:center\"> <font color=\"blue\"> Prédiction du nombre de nuits de logement d'urgence accordé à un groupe d'individus </font></h2>\n",
    "\n",
    "\n",
    "---------------------------------------"
   ]
  },
  {
   "cell_type": "markdown",
   "metadata": {
    "id": "milxsvKXVsDf"
   },
   "source": [
    "## Setup"
   ]
  },
  {
   "cell_type": "code",
   "execution_count": 2,
   "metadata": {
    "id": "DHMqy_EAVsDh"
   },
   "outputs": [],
   "source": [
    "import os\n",
    "os.environ['PYTHONHASHSEED']='0' # get reproducible results \n",
    "\n",
    "import random\n",
    "import numpy as np\n",
    "import pandas as pd\n",
    "import seaborn as sns\n",
    "import matplotlib.pyplot as plt\n",
    "\n",
    "from sklearn.metrics import log_loss\n",
    "from sklearn.model_selection import train_test_split\n",
    "import xgboost as xgb\n",
    "\n",
    "from keras.utils import to_categorical\n",
    "from keras.models import Sequential\n",
    "from keras.layers import Dense, Input\n",
    "from keras.optimizers import Adam\n",
    "from keras import backend as K\n",
    "import tensorflow as tf"
   ]
  },
  {
   "cell_type": "markdown",
   "metadata": {},
   "source": [
    "## Loss function"
   ]
  },
  {
   "cell_type": "code",
   "execution_count": 3,
   "metadata": {
    "id": "LvYky5pqVsDh"
   },
   "outputs": [],
   "source": [
    "def loss_scorer(y_true, y_pred):\n",
    "    \n",
    "    return log_loss(y_true, y_pred, sample_weight=10**y_true)"
   ]
  },
  {
   "cell_type": "markdown",
   "metadata": {
    "id": "D1am8mdOVsDj"
   },
   "source": [
    "## Description data"
   ]
  },
  {
   "cell_type": "markdown",
   "metadata": {
    "id": "CeZ4DYFTVsDj"
   },
   "source": [
    "#### File requests_train.csv"
   ]
  },
  {
   "cell_type": "markdown",
   "metadata": {
    "id": "BQFgRNU7VsDk"
   },
   "source": [
    "| Field name                       | Description                                                                                                                                                        | Type                     |\n",
    "|----------------------------------|--------------------------------------------------------------------------------------------------------------------------------------------------------------------|--------------------------|\n",
    "| request\\_id                      | \"the id of request, which is unique in this dataset\\.\"                                                                                                             | string                   |\n",
    "| animal\\_presence                 | flage indicating whether an animal is accompanying the group                                                                                                       | boolean                  |\n",
    "| answer\\_creation\\_date           | the timestamp when the anwer was registered                                                                                                                        | timestamp \\(iso format\\) |\n",
    "| child\\_situation                 | the number representing the situation of the children in the group \\(if any\\)                                                                                      | integer                  |\n",
    "| child\\_to\\_come                  | flag indicating whether the group is expecting a baby                                                                                                              | boolean                  |\n",
    "| district                         | the id of the administrative district where the request is made\\. Each district has its own emergency center responsible for receiving and managing the requests\\. | integer                  |\n",
    "| granted\\_number\\_of\\_nights      | \"the target \\(train dataset only\\), the categorized number of nights granted to the request\"                                                                       | integer                  |\n",
    "| group\\_composition\\_id           | the number representing the group composition                                                                                                                      | integer                  |\n",
    "| group\\_composition\\_label        | the description of the group composition                                                                                                                           | string                   |\n",
    "| group\\_creation\\_date            | the timestamp when the group was created in the database                                                                                                           | timestamp \\(iso format\\) |\n",
    "| group\\_id                        | \"the id of the group\\. A group can be linked to several requests, so not unique\"                                                                                   | string                   |\n",
    "| group\\_main\\_requester\\_id       | the id of the individual making the request\\. it cannot be joined with individual\\_id                                                                              | string                   |\n",
    "| group\\_type                      | whether the group is a made of several people \\(GROUP\\) or just one person \\(PERSON\\)                                                                              | string                   |\n",
    "| housing\\_situation\\_id           | the id of the housing situation of the group when making the request                                                                                               | integer                  |\n",
    "| housing\\_situation\\_label        | the description of the housing situation of the group when making the request                                                                                      | string                   |\n",
    "| long\\_term\\_housing\\_request     | flag indicating whether the groupe has filed a request for a long term housing solution\\.                                                                          | boolean                  |\n",
    "| number\\_of\\_underage             | the number of individual under 18 in the group                                                                                                                     | integer                  |\n",
    "| request\\_backoffice\\_creator\\_id | the id of the emergency call center employee who received the request                                                                                              | string                   |\n",
    "| request\\_creation\\_date          | the timestamp when the request was made\\.                                                                                                                          | timestamp \\(iso format\\) |\n",
    "| requester\\_type                  | the type of person who called the emergency service \\(a user / a social patrol / a third party\\)                                                                   | string                   |\n",
    "| social\\_situation\\_id            | the id representing the social situation of the group in the database                                                                                              | string                   |\n",
    "| town                             | the town where the requester is living                                                                                                                             | string                   |\n",
    "| victim\\_of\\_violence             | flag indicating whether the group includes an individual victim of violence                                                                                        | boolean                  |\n",
    "| victim\\_of\\_violence\\_type       | type of the individual victim of violence \\(and if it is a case of domestic violence\\)                                                                             | string                   |\n"
   ]
  },
  {
   "cell_type": "code",
   "execution_count": 4,
   "metadata": {
    "colab": {
     "base_uri": "https://localhost:8080/",
     "height": 301
    },
    "id": "81lEcscCVsDm",
    "outputId": "639a5924-169c-4350-a926-679ddf6c97ed"
   },
   "outputs": [
    {
     "data": {
      "text/html": [
       "<div>\n",
       "<style scoped>\n",
       "    .dataframe tbody tr th:only-of-type {\n",
       "        vertical-align: middle;\n",
       "    }\n",
       "\n",
       "    .dataframe tbody tr th {\n",
       "        vertical-align: top;\n",
       "    }\n",
       "\n",
       "    .dataframe thead th {\n",
       "        text-align: right;\n",
       "    }\n",
       "</style>\n",
       "<table border=\"1\" class=\"dataframe\">\n",
       "  <thead>\n",
       "    <tr style=\"text-align: right;\">\n",
       "      <th></th>\n",
       "      <th>request_id</th>\n",
       "      <th>animal_presence</th>\n",
       "      <th>answer_creation_date</th>\n",
       "      <th>child_situation</th>\n",
       "      <th>child_to_come</th>\n",
       "      <th>district</th>\n",
       "      <th>granted_number_of_nights</th>\n",
       "      <th>group_composition_id</th>\n",
       "      <th>group_composition_label</th>\n",
       "      <th>group_creation_date</th>\n",
       "      <th>...</th>\n",
       "      <th>housing_situation_label</th>\n",
       "      <th>long_term_housing_request</th>\n",
       "      <th>number_of_underage</th>\n",
       "      <th>request_backoffice_creator_id</th>\n",
       "      <th>request_creation_date</th>\n",
       "      <th>requester_type</th>\n",
       "      <th>social_situation_id</th>\n",
       "      <th>town</th>\n",
       "      <th>victim_of_violence</th>\n",
       "      <th>victim_of_violence_type</th>\n",
       "    </tr>\n",
       "  </thead>\n",
       "  <tbody>\n",
       "    <tr>\n",
       "      <th>0</th>\n",
       "      <td>130667d2964de43c511d0ead7ac66b33</td>\n",
       "      <td>f</td>\n",
       "      <td>2019-02-11 22:30:00</td>\n",
       "      <td>-1</td>\n",
       "      <td>NaN</td>\n",
       "      <td>85</td>\n",
       "      <td>1</td>\n",
       "      <td>10</td>\n",
       "      <td>man alone</td>\n",
       "      <td>2018-05-03 12:10:40.416</td>\n",
       "      <td>...</td>\n",
       "      <td>other</td>\n",
       "      <td>NaN</td>\n",
       "      <td>-1</td>\n",
       "      <td>eecd6110b7e9157e6423428b22a28159</td>\n",
       "      <td>2019-02-11 22:30:00</td>\n",
       "      <td>third party</td>\n",
       "      <td>9a84febc47fedaf2c81d7c755e9edc85</td>\n",
       "      <td>NaN</td>\n",
       "      <td>f</td>\n",
       "      <td>NaN</td>\n",
       "    </tr>\n",
       "    <tr>\n",
       "      <th>1</th>\n",
       "      <td>b1cd62fcf24eebb0f685d5eaf55317a8</td>\n",
       "      <td>f</td>\n",
       "      <td>2019-02-12 09:00:00</td>\n",
       "      <td>-1</td>\n",
       "      <td>NaN</td>\n",
       "      <td>85</td>\n",
       "      <td>1</td>\n",
       "      <td>10</td>\n",
       "      <td>man alone</td>\n",
       "      <td>2019-03-07 12:11:08.545</td>\n",
       "      <td>...</td>\n",
       "      <td>other</td>\n",
       "      <td>NaN</td>\n",
       "      <td>-1</td>\n",
       "      <td>eecd6110b7e9157e6423428b22a28159</td>\n",
       "      <td>2019-02-12 09:00:00</td>\n",
       "      <td>user</td>\n",
       "      <td>11f64f0547e855c5c59329b9edc63063</td>\n",
       "      <td>NaN</td>\n",
       "      <td>f</td>\n",
       "      <td>NaN</td>\n",
       "    </tr>\n",
       "    <tr>\n",
       "      <th>2</th>\n",
       "      <td>12cc0a18890bd4959fe42df3ae58838e</td>\n",
       "      <td>f</td>\n",
       "      <td>2019-02-01 21:00:00</td>\n",
       "      <td>-1</td>\n",
       "      <td>NaN</td>\n",
       "      <td>59</td>\n",
       "      <td>1</td>\n",
       "      <td>80</td>\n",
       "      <td>isolated child/underage</td>\n",
       "      <td>2019-03-13 12:54:15.887</td>\n",
       "      <td>...</td>\n",
       "      <td>street</td>\n",
       "      <td>NaN</td>\n",
       "      <td>-1</td>\n",
       "      <td>686d962128c7622aa79ed91da13f5c77</td>\n",
       "      <td>2019-02-01 21:00:00</td>\n",
       "      <td>user</td>\n",
       "      <td>898ab2883f410f4c6fb042ef16329fbb</td>\n",
       "      <td>NaN</td>\n",
       "      <td>f</td>\n",
       "      <td>NaN</td>\n",
       "    </tr>\n",
       "    <tr>\n",
       "      <th>3</th>\n",
       "      <td>ae2d5b4dc181d29e430132f145da1556</td>\n",
       "      <td>f</td>\n",
       "      <td>2019-02-25 15:12:05.037</td>\n",
       "      <td>-1</td>\n",
       "      <td>NaN</td>\n",
       "      <td>50</td>\n",
       "      <td>2</td>\n",
       "      <td>20</td>\n",
       "      <td>woman alone</td>\n",
       "      <td>2018-10-09 14:37:29.773</td>\n",
       "      <td>...</td>\n",
       "      <td>NaN</td>\n",
       "      <td>NaN</td>\n",
       "      <td>-1</td>\n",
       "      <td>ec29519464c381a6630f4e480a0c000e</td>\n",
       "      <td>2019-02-25 15:12:05.037</td>\n",
       "      <td>user</td>\n",
       "      <td>3998c8e890ddc980527dd1af45dfa672</td>\n",
       "      <td>NaN</td>\n",
       "      <td>t</td>\n",
       "      <td>woman</td>\n",
       "    </tr>\n",
       "    <tr>\n",
       "      <th>4</th>\n",
       "      <td>d13a17ce36c832514fda2464e11c4a9f</td>\n",
       "      <td>f</td>\n",
       "      <td>2019-02-20 09:59:20.603</td>\n",
       "      <td>-1</td>\n",
       "      <td>NaN</td>\n",
       "      <td>93</td>\n",
       "      <td>2</td>\n",
       "      <td>60</td>\n",
       "      <td>group with child(ren)</td>\n",
       "      <td>2018-10-02 10:47:36.931</td>\n",
       "      <td>...</td>\n",
       "      <td>hotel paid by the emergency centre</td>\n",
       "      <td>NaN</td>\n",
       "      <td>-1</td>\n",
       "      <td>c8b5cc926b1d7212224a08baa9619518</td>\n",
       "      <td>2019-02-20 09:59:20.603</td>\n",
       "      <td>user</td>\n",
       "      <td>74a10d96eae43586bc3c46e89719b821</td>\n",
       "      <td>NaN</td>\n",
       "      <td>f</td>\n",
       "      <td>NaN</td>\n",
       "    </tr>\n",
       "  </tbody>\n",
       "</table>\n",
       "<p>5 rows × 24 columns</p>\n",
       "</div>"
      ],
      "text/plain": [
       "                         request_id animal_presence     answer_creation_date  \\\n",
       "0  130667d2964de43c511d0ead7ac66b33               f      2019-02-11 22:30:00   \n",
       "1  b1cd62fcf24eebb0f685d5eaf55317a8               f      2019-02-12 09:00:00   \n",
       "2  12cc0a18890bd4959fe42df3ae58838e               f      2019-02-01 21:00:00   \n",
       "3  ae2d5b4dc181d29e430132f145da1556               f  2019-02-25 15:12:05.037   \n",
       "4  d13a17ce36c832514fda2464e11c4a9f               f  2019-02-20 09:59:20.603   \n",
       "\n",
       "   child_situation child_to_come  district  granted_number_of_nights  \\\n",
       "0               -1           NaN        85                         1   \n",
       "1               -1           NaN        85                         1   \n",
       "2               -1           NaN        59                         1   \n",
       "3               -1           NaN        50                         2   \n",
       "4               -1           NaN        93                         2   \n",
       "\n",
       "   group_composition_id  group_composition_label      group_creation_date  \\\n",
       "0                    10                man alone  2018-05-03 12:10:40.416   \n",
       "1                    10                man alone  2019-03-07 12:11:08.545   \n",
       "2                    80  isolated child/underage  2019-03-13 12:54:15.887   \n",
       "3                    20              woman alone  2018-10-09 14:37:29.773   \n",
       "4                    60    group with child(ren)  2018-10-02 10:47:36.931   \n",
       "\n",
       "   ...             housing_situation_label long_term_housing_request  \\\n",
       "0  ...                               other                       NaN   \n",
       "1  ...                               other                       NaN   \n",
       "2  ...                              street                       NaN   \n",
       "3  ...                                 NaN                       NaN   \n",
       "4  ...  hotel paid by the emergency centre                       NaN   \n",
       "\n",
       "  number_of_underage     request_backoffice_creator_id  \\\n",
       "0                 -1  eecd6110b7e9157e6423428b22a28159   \n",
       "1                 -1  eecd6110b7e9157e6423428b22a28159   \n",
       "2                 -1  686d962128c7622aa79ed91da13f5c77   \n",
       "3                 -1  ec29519464c381a6630f4e480a0c000e   \n",
       "4                 -1  c8b5cc926b1d7212224a08baa9619518   \n",
       "\n",
       "     request_creation_date requester_type               social_situation_id  \\\n",
       "0      2019-02-11 22:30:00    third party  9a84febc47fedaf2c81d7c755e9edc85   \n",
       "1      2019-02-12 09:00:00           user  11f64f0547e855c5c59329b9edc63063   \n",
       "2      2019-02-01 21:00:00           user  898ab2883f410f4c6fb042ef16329fbb   \n",
       "3  2019-02-25 15:12:05.037           user  3998c8e890ddc980527dd1af45dfa672   \n",
       "4  2019-02-20 09:59:20.603           user  74a10d96eae43586bc3c46e89719b821   \n",
       "\n",
       "  town victim_of_violence victim_of_violence_type  \n",
       "0  NaN                  f                     NaN  \n",
       "1  NaN                  f                     NaN  \n",
       "2  NaN                  f                     NaN  \n",
       "3  NaN                  t                   woman  \n",
       "4  NaN                  f                     NaN  \n",
       "\n",
       "[5 rows x 24 columns]"
      ]
     },
     "execution_count": 4,
     "metadata": {},
     "output_type": "execute_result"
    }
   ],
   "source": [
    "requests_train = pd.read_csv(filepath_or_buffer='data/requests_train.csv',\n",
    "                             sep=',',\n",
    "                             low_memory=False,\n",
    "                             error_bad_lines=False)\n",
    "\n",
    "requests_test = pd.read_csv(filepath_or_buffer='data/requests_test.csv',\n",
    "                            sep=',',\n",
    "                            low_memory=False,\n",
    "                            error_bad_lines=False)\n",
    "\n",
    "\n",
    "requests_train.head()"
   ]
  },
  {
   "cell_type": "markdown",
   "metadata": {
    "id": "FZrKBwPVVsDn"
   },
   "source": [
    "#### File individuals_train.csv"
   ]
  },
  {
   "cell_type": "markdown",
   "metadata": {
    "id": "5XkxVwNxVsDo"
   },
   "source": [
    "| Field name                      | Description                                                                                                               | Type                     |\n",
    "|---------------------------------|---------------------------------------------------------------------------------------------------------------------------|--------------------------|\n",
    "| request\\_id                     | the id of the request\\. It is not unique in this dataset \\(a request can be for several individual in case of a group\\)\\. | string                   |\n",
    "| individual\\_id                  | the id of the individual                                                                                                  | string                   |\n",
    "| birth\\_month                    | month of birth of the individual                                                                                          | integer                  |\n",
    "| birth\\_year                     | the year of birth of the individual                                                                                       | integer                  |\n",
    "| childcare\\_center\\_supervision  | flag representing the fact that a child receives follow\\-up care                                                          | boolean                  |\n",
    "| disabled\\_worker\\_certification | flag representing the fact that an individual is considered disabled regarding the employement law                        | boolean                  |\n",
    "| gender                          | the gender of the individual                                                                                              | boolean                  |\n",
    "| housing\\_situation\\_2\\_id       | housing situation category number of the group when making the request \\(more precise\\)                                   | integer                  |\n",
    "| housing\\_situation\\_2\\_label    | description of the housing situation of the group when making the request \\(more precise\\)                                | string                   |\n",
    "| individual\\_creation\\_date      | timestamp of the individual creation in the database                                                                      | timestamp \\(iso format\\) |\n",
    "| individual\\_role                | description of the role of the individual                                                                                 | string                   |\n",
    "| individual\\_role\\_2\\_id         | category number of the role of the individual                                                                             | integer                  |\n",
    "| individual\\_role\\_2\\_label      | \"description of the role of the individual, more precise than the former\"                                                 | string                   |\n",
    "| marital\\_status\\_id             | id of the marital status of the individual                                                                                | integer                  |\n",
    "| marital\\_status\\_label          | description of the marital status of the individual                                                                       | string                   |\n",
    "| pregnancy                       | flag representing whether the individual is pregnant \\(if applicable\\)                                                    | boolean                  |\n"
   ]
  },
  {
   "cell_type": "code",
   "execution_count": 5,
   "metadata": {
    "colab": {
     "base_uri": "https://localhost:8080/",
     "height": 234
    },
    "id": "pbH7gIY9VsDr",
    "outputId": "91dd4d72-043d-428c-f0ac-d8c712c48670"
   },
   "outputs": [
    {
     "data": {
      "text/html": [
       "<div>\n",
       "<style scoped>\n",
       "    .dataframe tbody tr th:only-of-type {\n",
       "        vertical-align: middle;\n",
       "    }\n",
       "\n",
       "    .dataframe tbody tr th {\n",
       "        vertical-align: top;\n",
       "    }\n",
       "\n",
       "    .dataframe thead th {\n",
       "        text-align: right;\n",
       "    }\n",
       "</style>\n",
       "<table border=\"1\" class=\"dataframe\">\n",
       "  <thead>\n",
       "    <tr style=\"text-align: right;\">\n",
       "      <th></th>\n",
       "      <th>request_id</th>\n",
       "      <th>individual_id</th>\n",
       "      <th>housing_situation_2_id</th>\n",
       "      <th>housing_situation_2_label</th>\n",
       "      <th>birth_month</th>\n",
       "      <th>birth_year</th>\n",
       "      <th>childcare_center_supervision</th>\n",
       "      <th>disabled_worker_certification</th>\n",
       "      <th>gender</th>\n",
       "      <th>individual_creation_date</th>\n",
       "      <th>individual_role</th>\n",
       "      <th>individual_role_2_id</th>\n",
       "      <th>individual_role_2_label</th>\n",
       "      <th>marital_status_id</th>\n",
       "      <th>marital_status_label</th>\n",
       "      <th>pregnancy</th>\n",
       "    </tr>\n",
       "  </thead>\n",
       "  <tbody>\n",
       "    <tr>\n",
       "      <th>0</th>\n",
       "      <td>130667d2964de43c511d0ead7ac66b33</td>\n",
       "      <td>b24a8cfaaf3663bac45ca3bcd24f0b36</td>\n",
       "      <td>20</td>\n",
       "      <td>on the street</td>\n",
       "      <td>5</td>\n",
       "      <td>1977</td>\n",
       "      <td>NaN</td>\n",
       "      <td>NaN</td>\n",
       "      <td>male</td>\n",
       "      <td>2018-01-29</td>\n",
       "      <td>isolated person</td>\n",
       "      <td>30</td>\n",
       "      <td>isolated adult</td>\n",
       "      <td>10</td>\n",
       "      <td>single person</td>\n",
       "      <td>f</td>\n",
       "    </tr>\n",
       "    <tr>\n",
       "      <th>1</th>\n",
       "      <td>b1cd62fcf24eebb0f685d5eaf55317a8</td>\n",
       "      <td>eef783d1bda82661a751c12c34aff8c2</td>\n",
       "      <td>20</td>\n",
       "      <td>on the street</td>\n",
       "      <td>5</td>\n",
       "      <td>1980</td>\n",
       "      <td>NaN</td>\n",
       "      <td>NaN</td>\n",
       "      <td>male</td>\n",
       "      <td>2019-03-07</td>\n",
       "      <td>NaN</td>\n",
       "      <td>30</td>\n",
       "      <td>isolated adult</td>\n",
       "      <td>-1</td>\n",
       "      <td>NaN</td>\n",
       "      <td>f</td>\n",
       "    </tr>\n",
       "    <tr>\n",
       "      <th>2</th>\n",
       "      <td>12cc0a18890bd4959fe42df3ae58838e</td>\n",
       "      <td>927b6fa58d6be263c411332835b11fec</td>\n",
       "      <td>20</td>\n",
       "      <td>on the street</td>\n",
       "      <td>1</td>\n",
       "      <td>2003</td>\n",
       "      <td>NaN</td>\n",
       "      <td>NaN</td>\n",
       "      <td>male</td>\n",
       "      <td>2019-03-13</td>\n",
       "      <td>NaN</td>\n",
       "      <td>10</td>\n",
       "      <td>isolated underage/child</td>\n",
       "      <td>-1</td>\n",
       "      <td>NaN</td>\n",
       "      <td>f</td>\n",
       "    </tr>\n",
       "    <tr>\n",
       "      <th>3</th>\n",
       "      <td>ae2d5b4dc181d29e430132f145da1556</td>\n",
       "      <td>94181d5cf4a56cc84d12677df84e2e03</td>\n",
       "      <td>20</td>\n",
       "      <td>on the street</td>\n",
       "      <td>7</td>\n",
       "      <td>1986</td>\n",
       "      <td>NaN</td>\n",
       "      <td>NaN</td>\n",
       "      <td>female</td>\n",
       "      <td>2018-10-09</td>\n",
       "      <td>NaN</td>\n",
       "      <td>30</td>\n",
       "      <td>isolated adult</td>\n",
       "      <td>-1</td>\n",
       "      <td>NaN</td>\n",
       "      <td>f</td>\n",
       "    </tr>\n",
       "    <tr>\n",
       "      <th>4</th>\n",
       "      <td>d13a17ce36c832514fda2464e11c4a9f</td>\n",
       "      <td>e79d2e3f9ace50049f1796c098008c13</td>\n",
       "      <td>35</td>\n",
       "      <td>hotel paid by the emergency structure</td>\n",
       "      <td>9</td>\n",
       "      <td>1980</td>\n",
       "      <td>NaN</td>\n",
       "      <td>NaN</td>\n",
       "      <td>female</td>\n",
       "      <td>2017-06-22</td>\n",
       "      <td>husband/spouse</td>\n",
       "      <td>1</td>\n",
       "      <td>partner</td>\n",
       "      <td>-1</td>\n",
       "      <td>NaN</td>\n",
       "      <td>f</td>\n",
       "    </tr>\n",
       "  </tbody>\n",
       "</table>\n",
       "</div>"
      ],
      "text/plain": [
       "                         request_id                     individual_id  \\\n",
       "0  130667d2964de43c511d0ead7ac66b33  b24a8cfaaf3663bac45ca3bcd24f0b36   \n",
       "1  b1cd62fcf24eebb0f685d5eaf55317a8  eef783d1bda82661a751c12c34aff8c2   \n",
       "2  12cc0a18890bd4959fe42df3ae58838e  927b6fa58d6be263c411332835b11fec   \n",
       "3  ae2d5b4dc181d29e430132f145da1556  94181d5cf4a56cc84d12677df84e2e03   \n",
       "4  d13a17ce36c832514fda2464e11c4a9f  e79d2e3f9ace50049f1796c098008c13   \n",
       "\n",
       "   housing_situation_2_id              housing_situation_2_label  birth_month  \\\n",
       "0                      20                          on the street            5   \n",
       "1                      20                          on the street            5   \n",
       "2                      20                          on the street            1   \n",
       "3                      20                          on the street            7   \n",
       "4                      35  hotel paid by the emergency structure            9   \n",
       "\n",
       "   birth_year childcare_center_supervision disabled_worker_certification  \\\n",
       "0        1977                          NaN                           NaN   \n",
       "1        1980                          NaN                           NaN   \n",
       "2        2003                          NaN                           NaN   \n",
       "3        1986                          NaN                           NaN   \n",
       "4        1980                          NaN                           NaN   \n",
       "\n",
       "   gender individual_creation_date  individual_role  individual_role_2_id  \\\n",
       "0    male               2018-01-29  isolated person                    30   \n",
       "1    male               2019-03-07              NaN                    30   \n",
       "2    male               2019-03-13              NaN                    10   \n",
       "3  female               2018-10-09              NaN                    30   \n",
       "4  female               2017-06-22   husband/spouse                     1   \n",
       "\n",
       "   individual_role_2_label  marital_status_id marital_status_label pregnancy  \n",
       "0           isolated adult                 10        single person         f  \n",
       "1           isolated adult                 -1                  NaN         f  \n",
       "2  isolated underage/child                 -1                  NaN         f  \n",
       "3           isolated adult                 -1                  NaN         f  \n",
       "4                  partner                 -1                  NaN         f  "
      ]
     },
     "execution_count": 5,
     "metadata": {},
     "output_type": "execute_result"
    }
   ],
   "source": [
    "individuals_train = pd.read_csv(filepath_or_buffer='data/individuals_train.csv',\n",
    "                                sep=',',\n",
    "                                low_memory=False,\n",
    "                                error_bad_lines=False)\n",
    "\n",
    "individuals_test = pd.read_csv(filepath_or_buffer='data/individuals_test.csv',\n",
    "                               sep=',',\n",
    "                               low_memory=False,\n",
    "                               error_bad_lines=False)\n",
    "\n",
    "individuals_train.head()"
   ]
  },
  {
   "cell_type": "markdown",
   "metadata": {
    "id": "iXeEASfcXBEn"
   },
   "source": [
    "## Preprocessing data"
   ]
  },
  {
   "cell_type": "markdown",
   "metadata": {},
   "source": [
    "- Convert categorical variable into dummy"
   ]
  },
  {
   "cell_type": "code",
   "execution_count": 6,
   "metadata": {
    "id": "duY1YkU2XAhb"
   },
   "outputs": [],
   "source": [
    "features = ['gender', 'pregnancy', 'marital_status_label']\n",
    "    \n",
    "dummies = pd.get_dummies(individuals_train[features], drop_first=True) \n",
    "individuals_train = pd.concat([individuals_train.drop(features, axis=1), dummies])\n",
    "\n",
    "dummies = pd.get_dummies(individuals_test[features], drop_first=True) \n",
    "individuals_test = pd.concat([individuals_test.drop(features, axis=1), dummies])"
   ]
  },
  {
   "cell_type": "code",
   "execution_count": 7,
   "metadata": {},
   "outputs": [],
   "source": [
    "features = ['animal_presence', 'child_to_come', 'group_type', 'requester_type', 'victim_of_violence', 'long_term_housing_request']\n",
    "    \n",
    "dummies = pd.get_dummies(requests_train[features], drop_first=True) \n",
    "requests_train = pd.concat([requests_train.drop(features, axis=1), dummies])\n",
    "\n",
    "dummies = pd.get_dummies(requests_test[features], drop_first=True) \n",
    "requests_test = pd.concat([requests_test.drop(features, axis=1), dummies])\n"
   ]
  },
  {
   "cell_type": "markdown",
   "metadata": {},
   "source": [
    "- Merge data individuals et requests"
   ]
  },
  {
   "cell_type": "code",
   "execution_count": 8,
   "metadata": {
    "colab": {
     "base_uri": "https://localhost:8080/",
     "height": 317
    },
    "id": "XU4LvRYEXJY_",
    "outputId": "b12feeca-0a50-4fbd-98a7-28463e8c7f01"
   },
   "outputs": [
    {
     "data": {
      "text/html": [
       "<div>\n",
       "<style scoped>\n",
       "    .dataframe tbody tr th:only-of-type {\n",
       "        vertical-align: middle;\n",
       "    }\n",
       "\n",
       "    .dataframe tbody tr th {\n",
       "        vertical-align: top;\n",
       "    }\n",
       "\n",
       "    .dataframe thead th {\n",
       "        text-align: right;\n",
       "    }\n",
       "</style>\n",
       "<table border=\"1\" class=\"dataframe\">\n",
       "  <thead>\n",
       "    <tr style=\"text-align: right;\">\n",
       "      <th></th>\n",
       "      <th>request_id</th>\n",
       "      <th>answer_creation_date</th>\n",
       "      <th>child_situation</th>\n",
       "      <th>district</th>\n",
       "      <th>granted_number_of_nights</th>\n",
       "      <th>group_composition_id</th>\n",
       "      <th>group_composition_label</th>\n",
       "      <th>group_creation_date</th>\n",
       "      <th>group_id</th>\n",
       "      <th>group_main_requester_id</th>\n",
       "      <th>...</th>\n",
       "      <th>marital_status_id</th>\n",
       "      <th>gender_male</th>\n",
       "      <th>pregnancy_t</th>\n",
       "      <th>marital_status_label_cohabitation</th>\n",
       "      <th>marital_status_label_divorced</th>\n",
       "      <th>marital_status_label_marital relationship</th>\n",
       "      <th>marital_status_label_married</th>\n",
       "      <th>marital_status_label_separated</th>\n",
       "      <th>marital_status_label_single person</th>\n",
       "      <th>marital_status_label_widowed</th>\n",
       "    </tr>\n",
       "  </thead>\n",
       "  <tbody>\n",
       "    <tr>\n",
       "      <th>0</th>\n",
       "      <td>130667d2964de43c511d0ead7ac66b33</td>\n",
       "      <td>2019-02-11 22:30:00</td>\n",
       "      <td>-1.0</td>\n",
       "      <td>85.0</td>\n",
       "      <td>1.0</td>\n",
       "      <td>10.0</td>\n",
       "      <td>man alone</td>\n",
       "      <td>2018-05-03 12:10:40.416</td>\n",
       "      <td>c62f692dcc3f31880dd3937369c6f9e1</td>\n",
       "      <td>56252a8182a732cad0d106328bf96a0b</td>\n",
       "      <td>...</td>\n",
       "      <td>10.0</td>\n",
       "      <td>NaN</td>\n",
       "      <td>NaN</td>\n",
       "      <td>NaN</td>\n",
       "      <td>NaN</td>\n",
       "      <td>NaN</td>\n",
       "      <td>NaN</td>\n",
       "      <td>NaN</td>\n",
       "      <td>NaN</td>\n",
       "      <td>NaN</td>\n",
       "    </tr>\n",
       "    <tr>\n",
       "      <th>1</th>\n",
       "      <td>b1cd62fcf24eebb0f685d5eaf55317a8</td>\n",
       "      <td>2019-02-12 09:00:00</td>\n",
       "      <td>-1.0</td>\n",
       "      <td>85.0</td>\n",
       "      <td>1.0</td>\n",
       "      <td>10.0</td>\n",
       "      <td>man alone</td>\n",
       "      <td>2019-03-07 12:11:08.545</td>\n",
       "      <td>cbb3ae0239a3ca9a0441831bde02aaa3</td>\n",
       "      <td>b23d21c9973e5b74504a94eebe82fb75</td>\n",
       "      <td>...</td>\n",
       "      <td>-1.0</td>\n",
       "      <td>NaN</td>\n",
       "      <td>NaN</td>\n",
       "      <td>NaN</td>\n",
       "      <td>NaN</td>\n",
       "      <td>NaN</td>\n",
       "      <td>NaN</td>\n",
       "      <td>NaN</td>\n",
       "      <td>NaN</td>\n",
       "      <td>NaN</td>\n",
       "    </tr>\n",
       "    <tr>\n",
       "      <th>2</th>\n",
       "      <td>12cc0a18890bd4959fe42df3ae58838e</td>\n",
       "      <td>2019-02-01 21:00:00</td>\n",
       "      <td>-1.0</td>\n",
       "      <td>59.0</td>\n",
       "      <td>1.0</td>\n",
       "      <td>80.0</td>\n",
       "      <td>isolated child/underage</td>\n",
       "      <td>2019-03-13 12:54:15.887</td>\n",
       "      <td>a73d85877e940fd36ac23bb80ac7fbbe</td>\n",
       "      <td>5e063c21a61a5b38f8f21baebea86f50</td>\n",
       "      <td>...</td>\n",
       "      <td>-1.0</td>\n",
       "      <td>NaN</td>\n",
       "      <td>NaN</td>\n",
       "      <td>NaN</td>\n",
       "      <td>NaN</td>\n",
       "      <td>NaN</td>\n",
       "      <td>NaN</td>\n",
       "      <td>NaN</td>\n",
       "      <td>NaN</td>\n",
       "      <td>NaN</td>\n",
       "    </tr>\n",
       "    <tr>\n",
       "      <th>3</th>\n",
       "      <td>ae2d5b4dc181d29e430132f145da1556</td>\n",
       "      <td>2019-02-25 15:12:05.037</td>\n",
       "      <td>-1.0</td>\n",
       "      <td>50.0</td>\n",
       "      <td>2.0</td>\n",
       "      <td>20.0</td>\n",
       "      <td>woman alone</td>\n",
       "      <td>2018-10-09 14:37:29.773</td>\n",
       "      <td>5f69b8b928f84ce1e673740acb854af2</td>\n",
       "      <td>f46e831e036fe418d88d6d40ee4b0680</td>\n",
       "      <td>...</td>\n",
       "      <td>-1.0</td>\n",
       "      <td>NaN</td>\n",
       "      <td>NaN</td>\n",
       "      <td>NaN</td>\n",
       "      <td>NaN</td>\n",
       "      <td>NaN</td>\n",
       "      <td>NaN</td>\n",
       "      <td>NaN</td>\n",
       "      <td>NaN</td>\n",
       "      <td>NaN</td>\n",
       "    </tr>\n",
       "    <tr>\n",
       "      <th>4</th>\n",
       "      <td>d13a17ce36c832514fda2464e11c4a9f</td>\n",
       "      <td>2019-02-20 09:59:20.603</td>\n",
       "      <td>-1.0</td>\n",
       "      <td>93.0</td>\n",
       "      <td>2.0</td>\n",
       "      <td>60.0</td>\n",
       "      <td>group with child(ren)</td>\n",
       "      <td>2018-10-02 10:47:36.931</td>\n",
       "      <td>df3a2364091c2aa9f90f2738f6b176f1</td>\n",
       "      <td>936ae1e1737f38e8f9ef3049805629f3</td>\n",
       "      <td>...</td>\n",
       "      <td>-1.0</td>\n",
       "      <td>NaN</td>\n",
       "      <td>NaN</td>\n",
       "      <td>NaN</td>\n",
       "      <td>NaN</td>\n",
       "      <td>NaN</td>\n",
       "      <td>NaN</td>\n",
       "      <td>NaN</td>\n",
       "      <td>NaN</td>\n",
       "      <td>NaN</td>\n",
       "    </tr>\n",
       "  </tbody>\n",
       "</table>\n",
       "<p>5 rows × 39 columns</p>\n",
       "</div>"
      ],
      "text/plain": [
       "                         request_id     answer_creation_date  child_situation  \\\n",
       "0  130667d2964de43c511d0ead7ac66b33      2019-02-11 22:30:00             -1.0   \n",
       "1  b1cd62fcf24eebb0f685d5eaf55317a8      2019-02-12 09:00:00             -1.0   \n",
       "2  12cc0a18890bd4959fe42df3ae58838e      2019-02-01 21:00:00             -1.0   \n",
       "3  ae2d5b4dc181d29e430132f145da1556  2019-02-25 15:12:05.037             -1.0   \n",
       "4  d13a17ce36c832514fda2464e11c4a9f  2019-02-20 09:59:20.603             -1.0   \n",
       "\n",
       "   district  granted_number_of_nights  group_composition_id  \\\n",
       "0      85.0                       1.0                  10.0   \n",
       "1      85.0                       1.0                  10.0   \n",
       "2      59.0                       1.0                  80.0   \n",
       "3      50.0                       2.0                  20.0   \n",
       "4      93.0                       2.0                  60.0   \n",
       "\n",
       "   group_composition_label      group_creation_date  \\\n",
       "0                man alone  2018-05-03 12:10:40.416   \n",
       "1                man alone  2019-03-07 12:11:08.545   \n",
       "2  isolated child/underage  2019-03-13 12:54:15.887   \n",
       "3              woman alone  2018-10-09 14:37:29.773   \n",
       "4    group with child(ren)  2018-10-02 10:47:36.931   \n",
       "\n",
       "                           group_id           group_main_requester_id  ...  \\\n",
       "0  c62f692dcc3f31880dd3937369c6f9e1  56252a8182a732cad0d106328bf96a0b  ...   \n",
       "1  cbb3ae0239a3ca9a0441831bde02aaa3  b23d21c9973e5b74504a94eebe82fb75  ...   \n",
       "2  a73d85877e940fd36ac23bb80ac7fbbe  5e063c21a61a5b38f8f21baebea86f50  ...   \n",
       "3  5f69b8b928f84ce1e673740acb854af2  f46e831e036fe418d88d6d40ee4b0680  ...   \n",
       "4  df3a2364091c2aa9f90f2738f6b176f1  936ae1e1737f38e8f9ef3049805629f3  ...   \n",
       "\n",
       "   marital_status_id gender_male  pregnancy_t  \\\n",
       "0               10.0         NaN          NaN   \n",
       "1               -1.0         NaN          NaN   \n",
       "2               -1.0         NaN          NaN   \n",
       "3               -1.0         NaN          NaN   \n",
       "4               -1.0         NaN          NaN   \n",
       "\n",
       "  marital_status_label_cohabitation marital_status_label_divorced  \\\n",
       "0                               NaN                           NaN   \n",
       "1                               NaN                           NaN   \n",
       "2                               NaN                           NaN   \n",
       "3                               NaN                           NaN   \n",
       "4                               NaN                           NaN   \n",
       "\n",
       "  marital_status_label_marital relationship marital_status_label_married  \\\n",
       "0                                       NaN                          NaN   \n",
       "1                                       NaN                          NaN   \n",
       "2                                       NaN                          NaN   \n",
       "3                                       NaN                          NaN   \n",
       "4                                       NaN                          NaN   \n",
       "\n",
       "  marital_status_label_separated  marital_status_label_single person  \\\n",
       "0                            NaN                                 NaN   \n",
       "1                            NaN                                 NaN   \n",
       "2                            NaN                                 NaN   \n",
       "3                            NaN                                 NaN   \n",
       "4                            NaN                                 NaN   \n",
       "\n",
       "   marital_status_label_widowed  \n",
       "0                           NaN  \n",
       "1                           NaN  \n",
       "2                           NaN  \n",
       "3                           NaN  \n",
       "4                           NaN  \n",
       "\n",
       "[5 rows x 39 columns]"
      ]
     },
     "execution_count": 8,
     "metadata": {},
     "output_type": "execute_result"
    }
   ],
   "source": [
    "df_train = pd.merge(requests_train, \n",
    "                    individuals_train.groupby(['request_id']).mean(), \n",
    "                    left_on='request_id',\n",
    "                    right_index=True)\n",
    "\n",
    "df_test = pd.merge(requests_test, \n",
    "                    individuals_test.groupby(['request_id']).mean(), \n",
    "                    left_on='request_id',\n",
    "                    right_index=True)\n",
    "\n",
    "df_train.head()"
   ]
  },
  {
   "cell_type": "code",
   "execution_count": 9,
   "metadata": {},
   "outputs": [
    {
     "data": {
      "image/png": "[encoded data removed]",
      "text/plain": [
       "<Figure size 864x576 with 1 Axes>"
      ]
     },
     "metadata": {
      "needs_background": "light"
     },
     "output_type": "display_data"
    }
   ],
   "source": [
    "fig = plt.figure(figsize=(12, 8))\n",
    "ax = sns.countplot(y=\"granted_number_of_nights\", data=df_train, order=df_train['granted_number_of_nights'].value_counts().index)\n",
    "plt.show()"
   ]
  },
  {
   "cell_type": "markdown",
   "metadata": {
    "id": "RSks_rUcUE2R"
   },
   "source": [
    "- Supprimer les variables avec une forte présence de NA"
   ]
  },
  {
   "cell_type": "code",
   "execution_count": 10,
   "metadata": {
    "colab": {
     "base_uri": "https://localhost:8080/"
    },
    "id": "DTEkTGeDfXir",
    "outputId": "6506b7ac-1323-476a-cd59-d70542660b0c"
   },
   "outputs": [
    {
     "data": {
      "text/plain": [
       "['town',\n",
       " 'victim_of_violence_type',\n",
       " 'animal_presence_t',\n",
       " 'child_to_come_t',\n",
       " 'group_type_individual',\n",
       " 'requester_type_third party',\n",
       " 'requester_type_user',\n",
       " 'victim_of_violence_t',\n",
       " 'long_term_housing_request_t',\n",
       " 'gender_male',\n",
       " 'pregnancy_t',\n",
       " 'marital_status_label_cohabitation',\n",
       " 'marital_status_label_divorced',\n",
       " 'marital_status_label_marital relationship',\n",
       " 'marital_status_label_married',\n",
       " 'marital_status_label_separated',\n",
       " 'marital_status_label_single person',\n",
       " 'marital_status_label_widowed']"
      ]
     },
     "execution_count": 10,
     "metadata": {},
     "output_type": "execute_result"
    }
   ],
   "source": [
    "vars_na = df_train.isna().sum() / df_train.shape[0]\n",
    "vars_na = list(vars_na[vars_na > 0.6].index)\n",
    "df_train.drop(vars_na, axis=1, inplace=True)\n",
    "df_test.drop(vars_na, axis=1, inplace=True)\n",
    "\n",
    "vars_na"
   ]
  },
  {
   "cell_type": "markdown",
   "metadata": {},
   "source": [
    "- Supprimer les variables non pertinentes "
   ]
  },
  {
   "cell_type": "code",
   "execution_count": 11,
   "metadata": {
    "colab": {
     "base_uri": "https://localhost:8080/"
    },
    "id": "Y3rCM6DsEGrW",
    "outputId": "876cb153-5c04-4310-8d03-f51d1129d35a"
   },
   "outputs": [],
   "source": [
    "features = ['request_id', 'answer_creation_date', 'child_situation', 'group_composition_label', \n",
    "            'group_creation_date', 'group_id', 'group_main_requester_id', 'social_situation_id', \n",
    "            'housing_situation_label', 'request_backoffice_creator_id', 'request_creation_date', \n",
    "            'marital_status_id', 'birth_month']\n",
    "\n",
    "df_train.drop(features, axis=1, inplace=True)\n",
    "df_test.drop(features, axis=1, inplace=True)"
   ]
  },
  {
   "cell_type": "markdown",
   "metadata": {},
   "source": [
    "- Dataframe final"
   ]
  },
  {
   "cell_type": "code",
   "execution_count": 12,
   "metadata": {
    "colab": {
     "base_uri": "https://localhost:8080/"
    },
    "id": "WsvL4fYZXsBI",
    "outputId": "36854e51-7192-4e13-c570-4b1a7b9e9fbe"
   },
   "outputs": [
    {
     "data": {
      "text/plain": [
       "district                    0\n",
       "granted_number_of_nights    0\n",
       "group_composition_id        0\n",
       "housing_situation_id        0\n",
       "number_of_underage          0\n",
       "housing_situation_2_id      0\n",
       "birth_year                  0\n",
       "individual_role_2_id        0\n",
       "dtype: int64"
      ]
     },
     "execution_count": 12,
     "metadata": {},
     "output_type": "execute_result"
    }
   ],
   "source": [
    "df_train.isna().sum()"
   ]
  },
  {
   "cell_type": "markdown",
   "metadata": {
    "id": "ZKaEpV_XT6Fr"
   },
   "source": [
    "## Training "
   ]
  },
  {
   "cell_type": "markdown",
   "metadata": {},
   "source": [
    "- Fixer le grain aléatoire(seed)"
   ]
  },
  {
   "cell_type": "code",
   "execution_count": 13,
   "metadata": {
    "id": "hE5trNlvl_Qn"
   },
   "outputs": [],
   "source": [
    "def set_random_seed():\n",
    "    seed = 0\n",
    "    os.environ['PYTHONHASHSEED']=str(seed)\n",
    "    random.seed(seed)\n",
    "    np.random.seed(seed)\n",
    "    tf.compat.v1.set_random_seed(seed) \n",
    "    \n",
    "    session_conf = tf.compat.v1.ConfigProto(intra_op_parallelism_threads=1, inter_op_parallelism_threads=1)\n",
    "    sess = tf.compat.v1.Session(graph=tf.compat.v1.get_default_graph(), config=session_conf)\n",
    "    tf.compat.v1.keras.backend.set_session(sess)\n",
    "\n",
    "    "
   ]
  },
  {
   "cell_type": "markdown",
   "metadata": {
    "id": "fIjG0czgPb1-"
   },
   "source": [
    "- Splitter data en train-test"
   ]
  },
  {
   "cell_type": "code",
   "execution_count": 14,
   "metadata": {
    "colab": {
     "base_uri": "https://localhost:8080/"
    },
    "id": "nkJCsm9SnXD8",
    "outputId": "6c57efaf-93cf-4131-dbcd-7f7886cfc55a"
   },
   "outputs": [
    {
     "name": "stdout",
     "output_type": "stream",
     "text": [
      "X_train:  (166733, 7)\n",
      "X_valid:  (71458, 7)\n",
      "X_test:  (59548, 7)\n"
     ]
    }
   ],
   "source": [
    "X = df_train.drop(['granted_number_of_nights'], axis=1)\n",
    "y = df_train['granted_number_of_nights']\n",
    "\n",
    "X_test = df_test.drop(['granted_number_of_nights'], axis=1)\n",
    "y_test = df_test['granted_number_of_nights']\n",
    "\n",
    "X_train, X_valid, y_train, y_valid = train_test_split(X, y, test_size=0.3, random_state=42, stratify=y)\n",
    "print('X_train: ', X_train.shape)\n",
    "print('X_valid: ', X_valid.shape)\n",
    "print('X_test: ', X_test.shape)\n"
   ]
  },
  {
   "cell_type": "markdown",
   "metadata": {},
   "source": [
    "#### Modèle aléatoire"
   ]
  },
  {
   "cell_type": "code",
   "execution_count": 15,
   "metadata": {},
   "outputs": [
    {
     "name": "stdout",
     "output_type": "stream",
     "text": [
      "Score modèle aléatoire: 1.6192273733608613\n"
     ]
    }
   ],
   "source": [
    "preds = np.random.uniform(size=(X_test.shape[0], 4))\n",
    "score = loss_scorer(y_test, preds)\n",
    "\n",
    "print(f'Score modèle aléatoire: {score}')"
   ]
  },
  {
   "cell_type": "markdown",
   "metadata": {
    "id": "gRIODd78UC5x"
   },
   "source": [
    "#### Ensemble learning ([XGBoost](https://xgboost.readthedocs.io/en/latest/))\n",
    "- XGBoost est une implémentation optimisée du Gradient Boosting\n",
    "\n",
    "- Gradient Boosting : algorithme d'apprentissage supervisé basé sur le principe de la combinaison de modèles faibles pour fournir une meilleure prédiction.\n",
    "\n",
    "- XGBoost construit un premier modèle. Ensuite, chaque observation sera pondérée en fonction de la performance de la prédiction. On itère le processus..."
   ]
  },
  {
   "cell_type": "code",
   "execution_count": 16,
   "metadata": {
    "colab": {
     "base_uri": "https://localhost:8080/"
    },
    "id": "TZWJYmmUd9Fo",
    "outputId": "91821c84-206f-455b-816f-e18bf075eee8"
   },
   "outputs": [
    {
     "name": "stdout",
     "output_type": "stream",
     "text": [
      "[0]\tvalid-mlogloss:1.17336\n",
      "[100]\tvalid-mlogloss:0.60661\n",
      "[200]\tvalid-mlogloss:0.58617\n",
      "[300]\tvalid-mlogloss:0.58080\n",
      "[400]\tvalid-mlogloss:0.58160\n",
      "[425]\tvalid-mlogloss:0.58293\n"
     ]
    }
   ],
   "source": [
    "dtrain = xgb.DMatrix(X_train, label=y_train, weight=10**y_train, feature_names=X.columns)\n",
    "dvalid = xgb.DMatrix(X_valid, label= y_valid, weight= 10**y_valid, feature_names=X.columns)\n",
    "dtest = xgb.DMatrix(X_test, feature_names=X.columns)\n",
    "\n",
    "param = {\n",
    "    'max_depth': 3,\n",
    "    'objective': 'multi:softprob',  \n",
    "    'eval_metric': 'mlogloss',\n",
    "    'num_class': 4}  \n",
    "\n",
    "# Fixer le seed\n",
    "set_random_seed()\n",
    "\n",
    "# Train XGBoost\n",
    "modelxgb = xgb.train(param, dtrain, num_boost_round=1000, evals=[(dvalid, 'valid')], early_stopping_rounds=100, verbose_eval=100)\n"
   ]
  },
  {
   "cell_type": "code",
   "execution_count": 17,
   "metadata": {
    "colab": {
     "base_uri": "https://localhost:8080/"
    },
    "id": "SL4jyq1gke3W",
    "outputId": "bc772ef3-bd7e-48ce-c1e9-490c3dca978d"
   },
   "outputs": [
    {
     "name": "stdout",
     "output_type": "stream",
     "text": [
      "XGBoost score : 0.5918754141102349\n"
     ]
    }
   ],
   "source": [
    "preds = modelxgb.predict(dtest)\n",
    "score = loss_scorer(y_test, preds)\n",
    "print(f'XGBoost score : {score}')"
   ]
  },
  {
   "cell_type": "markdown",
   "metadata": {
    "id": "U0TQy9k3vidu"
   },
   "source": [
    "#### Feature importance"
   ]
  },
  {
   "cell_type": "code",
   "execution_count": 18,
   "metadata": {
    "colab": {
     "base_uri": "https://localhost:8080/",
     "height": 893
    },
    "id": "AAzB9Zh1vieZ",
    "outputId": "27ede856-0bd6-4f8e-b4ad-18441c10e3c8"
   },
   "outputs": [
    {
     "data": {
      "image/png": "[encoded data removed]",
      "text/plain": [
       "<Figure size 1440x1080 with 1 Axes>"
      ]
     },
     "metadata": {
      "needs_background": "light"
     },
     "output_type": "display_data"
    }
   ],
   "source": [
    "plt.rcParams[\"figure.figsize\"] = (20, 15)\n",
    "xgb.plot_importance(modelxgb)\n",
    "plt.show()"
   ]
  },
  {
   "cell_type": "markdown",
   "metadata": {},
   "source": [
    "- Pour plus de détails sur le projet, contacter moi par email: <h6>  alhousseynou.ball@polytechnique.edu <h6>"
   ]
  },
  {
   "cell_type": "markdown",
   "metadata": {
    "id": "y1GXZ3_QAjxG"
   },
   "source": [
    "<br>\n"
   ]
  }
 ],
 "metadata": {
  "colab": {
   "collapsed_sections": [],
   "name": "DS_technical_test_tutorial.ipynb",
   "provenance": []
  },
  "kernelspec": {
   "display_name": "Python 3",
   "language": "python",
   "name": "python3"
  },
  "language_info": {
   "codemirror_mode": {
    "name": "ipython",
    "version": 3
   },
   "file_extension": ".py",
   "mimetype": "text/x-python",
   "name": "python",
   "nbconvert_exporter": "python",
   "pygments_lexer": "ipython3",
   "version": "3.7.9"
  },
  "toc": {
   "base_numbering": 1,
   "nav_menu": {},
   "number_sections": true,
   "sideBar": true,
   "skip_h1_title": false,
   "title_cell": "Table of Contents",
   "title_sidebar": "Contents",
   "toc_cell": false,
   "toc_position": {},
   "toc_section_display": true,
   "toc_window_display": false
  }
 },
 "nbformat": 4,
 "nbformat_minor": 1
}
